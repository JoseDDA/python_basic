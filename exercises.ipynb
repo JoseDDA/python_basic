{
 "cells": [
  {
   "cell_type": "markdown",
   "metadata": {
    "vscode": {
     "languageId": "plaintext"
    }
   },
   "source": [
    "# Exercises and Practices \n",
    "\n",
    "## A1 - Data types"
   ]
  },
  {
   "cell_type": "markdown",
   "metadata": {},
   "source": [
    "###  Exercise 1. Money Exchange\n",
    "a. "
   ]
  },
  {
   "cell_type": "code",
   "execution_count": 3,
   "metadata": {},
   "outputs": [
    {
     "name": "stdout",
     "output_type": "stream",
     "text": [
      "money =  459\n",
      "18 1 4\n"
     ]
    }
   ],
   "source": [
    "money = 459 \n",
    "print(\"money = \", money)\n",
    "\n",
    "mon_25 = money // 25\n",
    "mon_5 = (money % 25) // 5\n",
    "mon_1 = (money % 5) // 1\n",
    "\n",
    "print(mon_25, mon_5, mon_1)"
   ]
  },
  {
   "cell_type": "code",
   "execution_count": 4,
   "metadata": {},
   "outputs": [
    {
     "name": "stdout",
     "output_type": "stream",
     "text": [
      "459  ==  459\n"
     ]
    }
   ],
   "source": [
    "# Test\n",
    "print(money, \" == \", mon_25 * 25 + mon_5 *5 + mon_1 * 1) "
   ]
  },
  {
   "cell_type": "markdown",
   "metadata": {},
   "source": [
    "b."
   ]
  },
  {
   "cell_type": "code",
   "execution_count": 9,
   "metadata": {},
   "outputs": [
    {
     "name": "stdout",
     "output_type": "stream",
     "text": [
      "Breakdown de 459 U:\n",
      "  18 coins of 25 U\n",
      "  1 coins of 5 U\n",
      "  4 coin of 1 U\n"
     ]
    }
   ],
   "source": [
    "entry_money = int(input(\"Write the amount of money you'd like to change: \"))\n",
    "\n",
    "mon_25 = entry_money // 25\n",
    "mon_5 = (entry_money % 25) // 5\n",
    "mon_1 = (entry_money % 5) // 1\n",
    "\n",
    "print(f\"Breakdown de {entry_money} U:\")\n",
    "print(f\"  {mon_25} coins of 25 U\")\n",
    "print(f\"  {mon_5} coins of 5 U\")\n",
    "print(f\"  {mon_1} coin of 1 U\")"
   ]
  },
  {
   "cell_type": "markdown",
   "metadata": {},
   "source": [
    "### Exercise 2. Hello World\n",
    "\n",
    "a."
   ]
  },
  {
   "cell_type": "code",
   "execution_count": 28,
   "metadata": {},
   "outputs": [
    {
     "name": "stdout",
     "output_type": "stream",
     "text": [
      "Hello \n"
     ]
    }
   ],
   "source": [
    "name = input(\"¿Como te llamas? \")\n",
    "print(\"Hello \" + name)"
   ]
  },
  {
   "cell_type": "markdown",
   "metadata": {},
   "source": [
    "b."
   ]
  },
  {
   "cell_type": "code",
   "execution_count": 18,
   "metadata": {},
   "outputs": [
    {
     "name": "stdout",
     "output_type": "stream",
     "text": [
      "Hola Jose, soon you'll be 11 years old\n"
     ]
    }
   ],
   "source": [
    "age = int(input(\"How old are you?\"))\n",
    "print(f\"Hola {name}, soon you'll be {age + 1} years old\")"
   ]
  },
  {
   "cell_type": "markdown",
   "metadata": {},
   "source": [
    "### Exercise 3. First Letter Capitalize "
   ]
  },
  {
   "cell_type": "code",
   "execution_count": 26,
   "metadata": {},
   "outputs": [
    {
     "name": "stdout",
     "output_type": "stream",
     "text": [
      "Blacky\n",
      "Blacky\n",
      "e s 28\n",
      "r\n",
      "HOLA hola\n"
     ]
    }
   ],
   "source": [
    "proper_name = \"blacky\"\n",
    "print(proper_name.title())\n",
    "print(proper_name[0].upper() + proper_name[1:])\n",
    "\n",
    "string = \"esta frase es para practicar\"\n",
    "print(string[0], string[1], len(string))\n",
    "print(string[-1])\n",
    "print(\"hola\".upper(), \"hola\".lower())"
   ]
  },
  {
   "cell_type": "markdown",
   "metadata": {},
   "source": [
    "### Exercise 4. Equation \n",
    "\n",
    "Two ways of doing this. Importing math or just using exponentials.\n",
    "Why does this work? Because the discriminant is a real number"
   ]
  },
  {
   "cell_type": "code",
   "execution_count": 36,
   "metadata": {},
   "outputs": [
    {
     "name": "stdout",
     "output_type": "stream",
     "text": [
      "3.0 2.0\n",
      "3.0 2.0\n"
     ]
    }
   ],
   "source": [
    "a , b, c = 2, - 10, 12\n",
    "def equation(a, b, c):\n",
    "\tdiscriminant = b**2 - 4*a*c\n",
    "\tsol_A = (-b + (discriminant)**0.5)/(2*a)\n",
    "\tsol_B = (-b - (discriminant)**0.5)/(2*a)\n",
    "\treturn sol_A, sol_B\n",
    "sol1, sol2 = equation(a, b, c)\n",
    "print(sol1, sol2)\n",
    "\n",
    "import math\n",
    "def equation2(a, b, c):\n",
    "\tdiscriminant = b**2 - 4*a*c\n",
    "\tsol_A = (-b + math.sqrt(discriminant))/(2*a)\n",
    "\tsol_B = (-b - math.sqrt(discriminant))/(2*a)\n",
    "\treturn sol_A, sol_B\n",
    "sol11, sol22 = equation2(a, b, c)\n",
    "print(sol11, sol22)\n"
   ]
  },
  {
   "cell_type": "markdown",
   "metadata": {},
   "source": [
    "### Exercsie 5. Equation with Imaginary Numbers "
   ]
  },
  {
   "cell_type": "code",
   "execution_count": 41,
   "metadata": {},
   "outputs": [
    {
     "name": "stdout",
     "output_type": "stream",
     "text": [
      "('-1.0 + 2.0 i', '-1.0 - 2.0 i')\n"
     ]
    }
   ],
   "source": [
    "# Solution 1\n",
    "a, b, c = 1, 2, 5\n",
    "def equation_im(a, b, c):\n",
    "    # ax^2 + bx + c = 0\n",
    "    discriminant = (b**2 - 4*a*c) ## buscamos el valor dentro de la raiz\n",
    "    if discriminant < 0: ## evaluamos si es menor a 0. Esto significa que es negativo\n",
    "        real_part = -b / (2 * a) \n",
    "        imag_part = (abs(discriminant) ** 0.5) / (2 * a)\n",
    "        # imag_part = math.sqrt(-discriminant) / (2 * a)\n",
    "        raiz1 = f\"{real_part} + {imag_part} i\"\n",
    "        raiz2 = f\"{real_part} - {imag_part} i\"\n",
    "    else:\n",
    "        raiz1, raiz2 = equation_im(a, b, c)\n",
    "    return raiz1, raiz2\n",
    "print(equation_im(a, b, c))"
   ]
  },
  {
   "cell_type": "code",
   "execution_count": 46,
   "metadata": {},
   "outputs": [
    {
     "name": "stdout",
     "output_type": "stream",
     "text": [
      "((-1+2j), (-1-2j))\n"
     ]
    }
   ],
   "source": [
    "# Solution 2\n",
    "import cmath\n",
    "a, b, c = 1, 2, 5\n",
    "def equation_im(a, b, c):\n",
    "\tdiscriminant = (b**2 - 4*a*c)\n",
    "\treal_part = -b / (2 * a)\n",
    "\timg_part = cmath.sqrt(-discriminant) / ( 2 * a)\n",
    "\tz1 = complex(real_part, img_part)\n",
    "\tz2 = complex(real_part, -img_part)\n",
    "\treturn z1, z2\n",
    "print(equation_im(a, b, c))"
   ]
  },
  {
   "cell_type": "code",
   "execution_count": 47,
   "metadata": {},
   "outputs": [
    {
     "name": "stdout",
     "output_type": "stream",
     "text": [
      "(-1.0, 2.0 i) (-1.0, -2.0 i)\n"
     ]
    }
   ],
   "source": [
    "# Solution 3\n",
    "import math \n",
    "a, b, c = 1, 2, 5\n",
    "discriminant = b**2 - 4*a*c\n",
    "real_part = -b/(2*a)\n",
    "img_part = math.sqrt(-discriminant) / (2*a)\n",
    "sol1 = \"(\" + str(real_part) + \", \" + str(img_part) + \" i)\"\n",
    "sol2 = \"(\" + str(real_part) + \", \" + str(-img_part) + \" i)\"\n",
    "print(sol1, sol2)"
   ]
  },
  {
   "cell_type": "code",
   "execution_count": 49,
   "metadata": {},
   "outputs": [
    {
     "name": "stdout",
     "output_type": "stream",
     "text": [
      "((-1+2j), (-1+2j))\n"
     ]
    }
   ],
   "source": [
    "# solution 4\n",
    "def equation_im(a, b, c):\n",
    "\tsol1 = (-b + cmath.sqrt(discriminant)) / (2 * a)\n",
    "\tsol2 = (-b + cmath.sqrt(discriminant)) / (2 * a)\n",
    "\treturn sol1 , sol2\n",
    "print(equation_im(a, b, c))"
   ]
  },
  {
   "cell_type": "markdown",
   "metadata": {},
   "source": [
    "## A2 - Functions"
   ]
  },
  {
   "cell_type": "markdown",
   "metadata": {},
   "source": [
    "### Exercise 1 - Money Exchange"
   ]
  },
  {
   "cell_type": "markdown",
   "metadata": {},
   "source": [
    "a."
   ]
  },
  {
   "cell_type": "code",
   "execution_count": 4,
   "metadata": {},
   "outputs": [
    {
     "name": "stdout",
     "output_type": "stream",
     "text": [
      "21 4 3\n",
      "(21, 4, 3)\n"
     ]
    }
   ],
   "source": [
    "def exchange(money: int):\n",
    "    \"\"\"\n",
    "    Breakdown the amount of money in coins of 25, 5, 1 units.\n",
    "    \n",
    "    Parameters: \n",
    "    ------------\n",
    "\t\tmoney: int\n",
    "\t\t\tamount of money that's going to be breakdown\n",
    "    \n",
    "    Precondition:\n",
    "    -------------\n",
    "\t\tmoney >= 0\n",
    "    Returns:\n",
    "    -------------\n",
    "\t\t(int, int, int)\n",
    "        Amount of coins of 25, 5, 1 units respectively\n",
    "    \"\"\"\n",
    "    m25 = money // 25 # División entera \n",
    "    m5 = (money % 25) // 5 # Divide el resto y luego hace una division entera\n",
    "    m1 = (money % 5) // 1 # lo mismo de arriba\n",
    "    return m25, m5, m1 # retorna tupla\n",
    "\n",
    "money = 548\n",
    "mon_25, mon_5, mon_1 = exchange(money)\n",
    "print(mon_25, mon_5, mon_1)\n",
    "print(exchange(money))\n"
   ]
  },
  {
   "cell_type": "markdown",
   "metadata": {},
   "source": [
    "b.\n"
   ]
  },
  {
   "cell_type": "code",
   "execution_count": 10,
   "metadata": {},
   "outputs": [
    {
     "name": "stdout",
     "output_type": "stream",
     "text": [
      "Breakdown from 537 in U\n",
      "21 of 25 U\n",
      "2 of 5 U\n",
      "2 of 1 U\n"
     ]
    }
   ],
   "source": [
    "def breakdown (money_input):\n",
    "\tmon_25, mon_5, mon_1 = exchange(money_input)\n",
    "\tprint(f\"Breakdown from {money_input} in U\")\n",
    "\tprint(f\"{mon_25} of 25 U\")\n",
    "\tprint(f\"{mon_5} of 5 U\")\n",
    "\tprint(f\"{mon_1} of 1 U\")\n",
    "\n",
    "def main():\n",
    "\tmoney_input = int(input(\"Entry the exchange money: \"))\n",
    "\tbreakdown(money_input)\n",
    "\n",
    "main()\n"
   ]
  },
  {
   "cell_type": "markdown",
   "metadata": {},
   "source": [
    "### Exercise 2. Life is more expensive"
   ]
  },
  {
   "cell_type": "code",
   "execution_count": 12,
   "metadata": {},
   "outputs": [],
   "source": [
    "def new_price(price, percentage):\n",
    "    price = price * (1 + percentage/100)\n",
    "    return price"
   ]
  },
  {
   "cell_type": "code",
   "execution_count": 13,
   "metadata": {},
   "outputs": [
    {
     "name": "stdout",
     "output_type": "stream",
     "text": [
      "11.00\n",
      "110.00\n",
      "26.25\n",
      "105.00\n",
      "95.00\n",
      "100.00\n"
     ]
    }
   ],
   "source": [
    "print(f\"{new_price(10, 10):.2f}\")\n",
    "print(f\"{new_price(100, 10):.2f}\")\n",
    "print(f\"{new_price(25, 5):.2f}\")\n",
    "print(f\"{new_price(100, 5):.2f}\")\n",
    "print(f\"{new_price(100, -5):.2f}\")\n",
    "print(f\"{new_price(100, 0):.2f}\")"
   ]
  },
  {
   "cell_type": "markdown",
   "metadata": {},
   "source": [
    "### Exercise 3. Min and Max from 2 real number"
   ]
  },
  {
   "cell_type": "code",
   "execution_count": 18,
   "metadata": {},
   "outputs": [
    {
     "name": "stdout",
     "output_type": "stream",
     "text": [
      "(1, 17)\n",
      "(1, 17)\n"
     ]
    }
   ],
   "source": [
    "def max_min(a, b):\n",
    "    return (a,b) if a <= b else (b, a)\n",
    "print(max_min(1, 17))\n",
    "print(max_min(17, 1))"
   ]
  },
  {
   "cell_type": "markdown",
   "metadata": {},
   "source": [
    "### Exercise 4. Successions"
   ]
  },
  {
   "cell_type": "code",
   "execution_count": 34,
   "metadata": {},
   "outputs": [
    {
     "name": "stdout",
     "output_type": "stream",
     "text": [
      "a)  [1, 3, 5, 7, 9]\n",
      "b)  [0, 3, 8, 15, 24]\n",
      "c)  [-1, 1, -1, 1, -1]\n",
      "d)  [1, 1, 2, 3, 5]\n",
      "e)  [1, 2, 3, 4, 1]\n",
      "f)  [2, 4, 8, 16, 32]\n"
     ]
    }
   ],
   "source": [
    "# a) 1, 3, 5, 7, 9, …\n",
    "def a(n):\n",
    "\treturn 2*n - 1\n",
    "print(\"a) \", [a (i) for i in range(1, 6)])\n",
    "#b) 3, 8, 15, 24, …\n",
    "def b(n):\n",
    "\treturn n**2 - 1\n",
    "print(\"b) \", [b (i) for i in range(1, 6)])\n",
    "#c) 1, -1, 1, -1, …\n",
    "def c(n):\n",
    "\treturn (-1)**n\n",
    "print(\"c) \", [c(i) for i in range(1, 6)])\n",
    "#d) 1, 1, 2, 3, 5, 8, …\n",
    "def d(n):\n",
    "\tif n <= 2:\n",
    "\t\treturn 1\n",
    "\treturn d(n - 1) + d(n - 2)\n",
    "print(\"d) \", [d(i) for i in range(1, 6)])\n",
    "#e) 1, 2, 3, 4, 1, 2, 3, 4, 1, 2, 3, 4, …\n",
    "def e(n):\n",
    "\treturn (n - 1) % 4 + 1\n",
    "print(\"e) \", [e (i) for i in range(1, 6)])\n",
    "# f) 1, 2, 4, 8, 16, 32, 64, …\n",
    "def f(n):\n",
    "\treturn 2**n\n",
    "print(\"f) \", [f (i) for i in range(1, 6)])\n"
   ]
  },
  {
   "cell_type": "markdown",
   "metadata": {},
   "source": [
    "### Exercise 5. Charge coin"
   ]
  },
  {
   "cell_type": "code",
   "execution_count": 38,
   "metadata": {},
   "outputs": [
    {
     "name": "stdout",
     "output_type": "stream",
     "text": [
      "cara\n",
      "cara\n",
      "cara\n",
      "cruz\n",
      "cara\n"
     ]
    }
   ],
   "source": [
    "import random\n",
    "def face():\n",
    "    return \"cara\" if random.random() < 0.70 else \"cruz\"\n",
    "print(face())\n",
    "print(face())\n",
    "print(face())\n",
    "print(face())\n",
    "print(face())"
   ]
  },
  {
   "cell_type": "markdown",
   "metadata": {},
   "source": [
    "### Exercise 7. Regression line\n"
   ]
  },
  {
   "cell_type": "code",
   "execution_count": null,
   "metadata": {},
   "outputs": [],
   "source": []
  },
  {
   "cell_type": "code",
   "execution_count": 47,
   "metadata": {},
   "outputs": [
    {
     "name": "stdout",
     "output_type": "stream",
     "text": [
      "[(0.0, 1.0), (1.0, 1.5), (2.0, 2.0), (3.0, 2.5), (4.0, 3.0), (5.0, 3.5), (6.0, 4.0), (7.0, 4.5), (8.0, 5.0)]\n"
     ]
    }
   ],
   "source": [
    "# Best solution\n",
    "Point = (float, float)\n",
    "Fun = {\"x\": float, \"return\": float}\n",
    "\n",
    "def obtain_fun(P: Point, Q: Point) -> Fun:\n",
    "\tdef f(x:float) -> float:\n",
    "\t\tpx, py = P\n",
    "\t\tqx, qy = Q\n",
    "\t\tm = (qy - py) / (qx - px)\n",
    "\t\ty = py + m*(x-px)\n",
    "\t\treturn y\n",
    "\treturn f\n",
    "P: Point = 2.0, 2.0\n",
    "Q: Point = 6.0, 4.0\n",
    "f = obtain_fun(P, Q)\n",
    "\n",
    "print([(float(x), f(x)) for x in range(9)])"
   ]
  },
  {
   "cell_type": "code",
   "execution_count": 50,
   "metadata": {},
   "outputs": [
    {
     "name": "stdout",
     "output_type": "stream",
     "text": [
      "6.0\n"
     ]
    }
   ],
   "source": [
    "# Second solution\n",
    "def obtain_fun(P, Q):\n",
    "    x1, y1 = P\n",
    "    x2, y2 = Q\n",
    "    m = (y2 - y1)/(x2 - x1) # pendiente\n",
    "    b = y1 - m * x1\n",
    "    return lambda x: m * x + b\n",
    "P = (1, 2)\n",
    "Q = (3, 4)\n",
    "funcion_lineal = obtain_fun(P,Q)\n",
    "y = funcion_lineal(5)\n",
    "print(y)"
   ]
  },
  {
   "cell_type": "markdown",
   "metadata": {},
   "source": [
    "## A3 - Conditionals"
   ]
  },
  {
   "cell_type": "markdown",
   "metadata": {},
   "source": [
    "### Exercise1. Calification Function"
   ]
  },
  {
   "cell_type": "code",
   "execution_count": 34,
   "metadata": {},
   "outputs": [
    {
     "name": "stdout",
     "output_type": "stream",
     "text": [
      "0.5 Suspense\n",
      "4.999 Suspense\n",
      "5.0 Aprove\n",
      "5.5 Aprove\n",
      "6.8 Aprove\n",
      "7.2 Notable\n",
      "9.25 Outstanding\n",
      "10.0 Honor Matricle\n"
     ]
    }
   ],
   "source": [
    "def calification(note):\n",
    "\tif note < 5.0:\n",
    "\t\treturn \"Suspense\"\n",
    "\telif note < 7.0:\n",
    "\t\treturn \"Aprove\"\n",
    "\telif note < 9.0:\n",
    "\t\treturn \"Notable\"\n",
    "\telif note < 10.0:\n",
    "\t\treturn \"Outstanding\"\n",
    "\telse:\n",
    "\t\treturn \"Honor Matricle\"\n",
    "for note in [0.5, 4.999, 5.0, 5.5, 6.8, 7.2, 9.25, 10.0]:\n",
    "\tprint(note, calification(note))"
   ]
  },
  {
   "cell_type": "markdown",
   "metadata": {},
   "source": [
    "### Exercise 2. Second Grad Equation\n"
   ]
  },
  {
   "cell_type": "code",
   "execution_count": 16,
   "metadata": {},
   "outputs": [
    {
     "name": "stdout",
     "output_type": "stream",
     "text": [
      "('Inf sols', [])\n",
      "('No sol', [])\n",
      "('Unique sol', [-2.5])\n",
      "('2 real solution: ', [3.0, 2.0])\n",
      "('2 img. solution: ', [(-1+2j), (-1-2j)])\n"
     ]
    }
   ],
   "source": [
    "import math , cmath\n",
    "\n",
    "def solve_eq_2_grade(a, b, c):\n",
    "\tif a == 0:\n",
    "\t\tif b == 0:\n",
    "\t\t\tif c == 0:\n",
    "\t\t\t\treturn (\"Inf sols\", [])\n",
    "\t\t\telse:\n",
    "\t\t\t\treturn (\"No sol\", [])\n",
    "\t\telse:\n",
    "\t\t\treturn (\"Unique sol\", [-c/b])\n",
    "\telse:\n",
    "\t\tdiscriminant = b**2 - 4*a*c\n",
    "\t\tif discriminant >= 0:\n",
    "\t\t\tsol1 = (-b + math.sqrt(discriminant)) / (2*a)\n",
    "\t\t\tsol2 = (-b - math.sqrt(discriminant)) /(2*a)\n",
    "\t\t\treturn (\"2 real solution: \", [sol1, sol2]) \n",
    "\t\telse:\n",
    "\t\t\tsol1 = (-b + cmath.sqrt(discriminant)) / (2*a)\n",
    "\t\t\tsol2 = (-b - cmath.sqrt(discriminant)) /(2*a)\n",
    "\t\t\treturn (\"2 img. solution: \", [sol1, sol2])\n",
    "print(solve_eq_2_grade(0 ,0 ,0))\n",
    "print(solve_eq_2_grade(0, 0, 3))\n",
    "print(solve_eq_2_grade(0, 2, 5))\n",
    "print(solve_eq_2_grade(1, -5, 6))\n",
    "print(solve_eq_2_grade(1, 2, 5))\n"
   ]
  },
  {
   "cell_type": "markdown",
   "metadata": {},
   "source": [
    "### Exercise 3. Alphabet Rotation"
   ]
  },
  {
   "cell_type": "code",
   "execution_count": 35,
   "metadata": {},
   "outputs": [
    {
     "name": "stdout",
     "output_type": "stream",
     "text": [
      "Al ataque.\n",
      "Hs hahxbl.\n",
      "Al ataque.\n",
      "\n",
      "Al ataque.\n",
      "Yj yryosc.\n",
      "Al ataque.\n"
     ]
    }
   ],
   "source": [
    "# Solution 1\n",
    "def\tcode_char(a, k):\n",
    "\tif not a.isalpha():\n",
    "\t\treturn a\n",
    "\tkk = ord(a) + k % 26\n",
    "\taa = chr(kk)\n",
    "\tif a.isupper() and aa.isupper() or a.islower() and aa.islower():\n",
    "\t\treturn aa\n",
    "\telse:\n",
    "\t\treturn chr(kk - 26)\n",
    "\n",
    "def\tcode_line(line, k):\n",
    "\treturn \"\".join([code_char(a, k) for a in line])\n",
    "\n",
    "frase = \"Al ataque.\"\n",
    "code = code_line(frase, 7)\n",
    "decode = code_line(code, -7)\n",
    "\n",
    "print(frase)\n",
    "print(code)\n",
    "print(decode)\n",
    "\n",
    "print()\n",
    "\n",
    "code = code_line(frase, 2000)\n",
    "decode = code_line(code, -2000)\n",
    "\n",
    "print(frase)\n",
    "print(code)\n",
    "print(decode)"
   ]
  },
  {
   "cell_type": "code",
   "execution_count": 36,
   "metadata": {},
   "outputs": [
    {
     "name": "stdout",
     "output_type": "stream",
     "text": [
      "Al ataque, venceremos al enemigo.\n",
      "Hs hahxbl, clujlyltvz hs lultpnv.\n",
      "Al ataque, venceremos al enemigo.\n",
      "\n",
      "Al ataque, venceremos al enemigo.\n",
      "Yj yryosc, tclacpckmq yj clckgem.\n",
      "Al ataque, venceremos al enemigo.\n"
     ]
    }
   ],
   "source": [
    "# Solution 2\n",
    "import string\n",
    "\n",
    "def code_char (a, k):\n",
    "\tif not a.isalpha():\n",
    "\t\treturn a\n",
    "\tif a.isupper():\n",
    "\t\talphabet = string.ascii_uppercase\n",
    "\telse:\n",
    "\t\talphabet = string.ascii_lowercase\n",
    "\tkk = (ord(a) - ord(alphabet[0]) + k) % 26\n",
    "\treturn alphabet[kk]\n",
    "\n",
    "def code_line(line, k):\n",
    "\treturn \"\".join([code_char(a, k) for a in line])\n",
    "\n",
    "frase = \"Al ataque, venceremos al enemigo.\"\n",
    "coded = code_line(frase, 7)\n",
    "decoded = code_line(coded, -7)\n",
    "\n",
    "print(frase)\n",
    "print(coded)\n",
    "print(decoded)\n",
    "\n",
    "print()\n",
    "\n",
    "coded = code_line(frase, 2000)\n",
    "decoded = code_line(coded, -2000)\n",
    "\n",
    "print(frase)\n",
    "print(coded)\n",
    "print(decoded)"
   ]
  },
  {
   "cell_type": "markdown",
   "metadata": {},
   "source": [
    "## A5 and A5 - Loops"
   ]
  },
  {
   "cell_type": "code",
   "execution_count": 33,
   "metadata": {},
   "outputs": [
    {
     "name": "stdout",
     "output_type": "stream",
     "text": [
      "6\n"
     ]
    }
   ],
   "source": [
    "def mcd(numberA, numberB):\n",
    "    while numberB:\n",
    "        numberA, numberB = numberB, numberA % numberB\n",
    "    return numberA\n",
    "print(mcd(12,18))"
   ]
  },
  {
   "cell_type": "markdown",
   "metadata": {},
   "source": [
    "### Exercise 1. Greatest Common Divisor"
   ]
  },
  {
   "cell_type": "code",
   "execution_count": 40,
   "metadata": {},
   "outputs": [
    {
     "name": "stdout",
     "output_type": "stream",
     "text": [
      "4\n"
     ]
    }
   ],
   "source": [
    "# Solution 1\n",
    "def mcd(numberA, numberB):\n",
    "    while numberB:\n",
    "        numberA, numberB = numberB, numberA % numberB\n",
    "    return numberA\n",
    "print(mcd(8, 12))"
   ]
  },
  {
   "cell_type": "code",
   "execution_count": 43,
   "metadata": {},
   "outputs": [
    {
     "name": "stdout",
     "output_type": "stream",
     "text": [
      "4\n"
     ]
    }
   ],
   "source": [
    "# Solution 2\n",
    "def mgd(numberA, numberB):\n",
    "\tnumberA, numberB = abs(numberA), abs(numberB)\n",
    "\twhile numberA != numberB: \n",
    "\t\tif numberA > numberB:\n",
    "\t\t\tnumberA = numberA - numberB\n",
    "\t\telse:\n",
    "\t\t\tnumberB = numberB -numberA\n",
    "\treturn numberA\n",
    "print(mgd(8, 12))"
   ]
  },
  {
   "cell_type": "markdown",
   "metadata": {},
   "source": [
    "### Exercise 2. Maximun Common Multiple"
   ]
  },
  {
   "cell_type": "code",
   "execution_count": 64,
   "metadata": {},
   "outputs": [
    {
     "data": {
      "text/plain": [
       "(24, 24, 13, 234)"
      ]
     },
     "execution_count": 64,
     "metadata": {},
     "output_type": "execute_result"
    }
   ],
   "source": [
    "def mcm(a, b):\n",
    "\tnew_list = list()\n",
    "\ta, b = abs(a), abs(b)\n",
    "\tm, n = a, b\n",
    "\twhile m != n:\n",
    "\t\tif m > n:\n",
    "\t\t\tn = n + b\n",
    "\t\telse:\n",
    "\t\t\tm = m + a\n",
    "\treturn m\n",
    "\t\n",
    "mcm(8, 12), mcm(-8, 12), mcm(13, 13), mcm(234, 1) "
   ]
  }
 ],
 "metadata": {
  "kernelspec": {
   "display_name": "Python 3",
   "language": "python",
   "name": "python3"
  },
  "language_info": {
   "codemirror_mode": {
    "name": "ipython",
    "version": 3
   },
   "file_extension": ".py",
   "mimetype": "text/x-python",
   "name": "python",
   "nbconvert_exporter": "python",
   "pygments_lexer": "ipython3",
   "version": "3.12.5"
  }
 },
 "nbformat": 4,
 "nbformat_minor": 2
}
