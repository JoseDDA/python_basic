{
 "cells": [
  {
   "cell_type": "markdown",
   "metadata": {
    "vscode": {
     "languageId": "plaintext"
    }
   },
   "source": [
    "# Exercises and Practices \n",
    "\n",
    "## A1 - Data types"
   ]
  },
  {
   "cell_type": "markdown",
   "metadata": {},
   "source": [
    "###  Exercise 1. Money Exchange\n",
    "a. "
   ]
  },
  {
   "cell_type": "code",
   "execution_count": 3,
   "metadata": {},
   "outputs": [
    {
     "name": "stdout",
     "output_type": "stream",
     "text": [
      "money =  459\n",
      "18 1 4\n"
     ]
    }
   ],
   "source": [
    "money = 459 \n",
    "print(\"money = \", money)\n",
    "\n",
    "mon_25 = money // 25\n",
    "mon_5 = (money % 25) // 5\n",
    "mon_1 = (money % 5) // 1\n",
    "\n",
    "print(mon_25, mon_5, mon_1)"
   ]
  },
  {
   "cell_type": "code",
   "execution_count": 4,
   "metadata": {},
   "outputs": [
    {
     "name": "stdout",
     "output_type": "stream",
     "text": [
      "459  ==  459\n"
     ]
    }
   ],
   "source": [
    "# Test\n",
    "print(money, \" == \", mon_25 * 25 + mon_5 *5 + mon_1 * 1) "
   ]
  },
  {
   "cell_type": "markdown",
   "metadata": {},
   "source": [
    "b."
   ]
  },
  {
   "cell_type": "code",
   "execution_count": 9,
   "metadata": {},
   "outputs": [
    {
     "name": "stdout",
     "output_type": "stream",
     "text": [
      "Breakdown de 459 U:\n",
      "  18 coins of 25 U\n",
      "  1 coins of 5 U\n",
      "  4 coin of 1 U\n"
     ]
    }
   ],
   "source": [
    "entry_money = int(input(\"Write the amount of money you'd like to change: \"))\n",
    "\n",
    "mon_25 = entry_money // 25\n",
    "mon_5 = (entry_money % 25) // 5\n",
    "mon_1 = (entry_money % 5) // 1\n",
    "\n",
    "print(f\"Breakdown de {entry_money} U:\")\n",
    "print(f\"  {mon_25} coins of 25 U\")\n",
    "print(f\"  {mon_5} coins of 5 U\")\n",
    "print(f\"  {mon_1} coin of 1 U\")"
   ]
  },
  {
   "cell_type": "markdown",
   "metadata": {},
   "source": [
    "### Exercise 2. Hello World\n",
    "\n",
    "a."
   ]
  },
  {
   "cell_type": "code",
   "execution_count": 28,
   "metadata": {},
   "outputs": [
    {
     "name": "stdout",
     "output_type": "stream",
     "text": [
      "Hello \n"
     ]
    }
   ],
   "source": [
    "name = input(\"¿Como te llamas? \")\n",
    "print(\"Hello \" + name)"
   ]
  },
  {
   "cell_type": "markdown",
   "metadata": {},
   "source": [
    "b."
   ]
  },
  {
   "cell_type": "code",
   "execution_count": 18,
   "metadata": {},
   "outputs": [
    {
     "name": "stdout",
     "output_type": "stream",
     "text": [
      "Hola Jose, soon you'll be 11 years old\n"
     ]
    }
   ],
   "source": [
    "age = int(input(\"How old are you?\"))\n",
    "print(f\"Hola {name}, soon you'll be {age + 1} years old\")"
   ]
  },
  {
   "cell_type": "markdown",
   "metadata": {},
   "source": [
    "### 3. First Letter Capitalize "
   ]
  },
  {
   "cell_type": "code",
   "execution_count": 26,
   "metadata": {},
   "outputs": [
    {
     "name": "stdout",
     "output_type": "stream",
     "text": [
      "Blacky\n",
      "Blacky\n",
      "e s 28\n",
      "r\n",
      "HOLA hola\n"
     ]
    }
   ],
   "source": [
    "proper_name = \"blacky\"\n",
    "print(proper_name.title())\n",
    "print(proper_name[0].upper() + proper_name[1:])\n",
    "\n",
    "string = \"esta frase es para practicar\"\n",
    "print(string[0], string[1], len(string))\n",
    "print(string[-1])\n",
    "print(\"hola\".upper(), \"hola\".lower())"
   ]
  },
  {
   "cell_type": "markdown",
   "metadata": {},
   "source": [
    "### 4. Equation \n",
    "\n",
    "Two ways of doing this. Importing math or just using exponentials.\n",
    "Why does this work? Because the discriminant is a real number"
   ]
  },
  {
   "cell_type": "code",
   "execution_count": 36,
   "metadata": {},
   "outputs": [
    {
     "name": "stdout",
     "output_type": "stream",
     "text": [
      "3.0 2.0\n",
      "3.0 2.0\n"
     ]
    }
   ],
   "source": [
    "a , b, c = 2, - 10, 12\n",
    "def equation(a, b, c):\n",
    "\tdiscriminant = b**2 - 4*a*c\n",
    "\tsol_A = (-b + (discriminant)**0.5)/(2*a)\n",
    "\tsol_B = (-b - (discriminant)**0.5)/(2*a)\n",
    "\treturn sol_A, sol_B\n",
    "sol1, sol2 = equation(a, b, c)\n",
    "print(sol1, sol2)\n",
    "\n",
    "import math\n",
    "def equation2(a, b, c):\n",
    "\tdiscriminant = b**2 - 4*a*c\n",
    "\tsol_A = (-b + math.sqrt(discriminant))/(2*a)\n",
    "\tsol_B = (-b - math.sqrt(discriminant))/(2*a)\n",
    "\treturn sol_A, sol_B\n",
    "sol11, sol22 = equation2(a, b, c)\n",
    "print(sol11, sol22)\n"
   ]
  },
  {
   "cell_type": "markdown",
   "metadata": {},
   "source": [
    "5. Equation with Imaginary Numbers "
   ]
  },
  {
   "cell_type": "code",
   "execution_count": 41,
   "metadata": {},
   "outputs": [
    {
     "name": "stdout",
     "output_type": "stream",
     "text": [
      "('-1.0 + 2.0 i', '-1.0 - 2.0 i')\n"
     ]
    }
   ],
   "source": [
    "# Solution 1\n",
    "a, b, c = 1, 2, 5\n",
    "def equation_im(a, b, c):\n",
    "    # ax^2 + bx + c = 0\n",
    "    discriminant = (b**2 - 4*a*c) ## buscamos el valor dentro de la raiz\n",
    "    if discriminant < 0: ## evaluamos si es menor a 0. Esto significa que es negativo\n",
    "        real_part = -b / (2 * a) \n",
    "        imag_part = (abs(discriminant) ** 0.5) / (2 * a)\n",
    "        # imag_part = math.sqrt(-discriminant) / (2 * a)\n",
    "        raiz1 = f\"{real_part} + {imag_part} i\"\n",
    "        raiz2 = f\"{real_part} - {imag_part} i\"\n",
    "    else:\n",
    "        raiz1, raiz2 = equation_im(a, b, c)\n",
    "    return raiz1, raiz2\n",
    "print(equation_im(a, b, c))"
   ]
  },
  {
   "cell_type": "code",
   "execution_count": 46,
   "metadata": {},
   "outputs": [
    {
     "name": "stdout",
     "output_type": "stream",
     "text": [
      "((-1+2j), (-1-2j))\n"
     ]
    }
   ],
   "source": [
    "# Solution 2\n",
    "import cmath\n",
    "a, b, c = 1, 2, 5\n",
    "def equation_im(a, b, c):\n",
    "\tdiscriminant = (b**2 - 4*a*c)\n",
    "\treal_part = -b / (2 * a)\n",
    "\timg_part = cmath.sqrt(-discriminant) / ( 2 * a)\n",
    "\tz1 = complex(real_part, img_part)\n",
    "\tz2 = complex(real_part, -img_part)\n",
    "\treturn z1, z2\n",
    "print(equation_im(a, b, c))"
   ]
  },
  {
   "cell_type": "code",
   "execution_count": 47,
   "metadata": {},
   "outputs": [
    {
     "name": "stdout",
     "output_type": "stream",
     "text": [
      "(-1.0, 2.0 i) (-1.0, -2.0 i)\n"
     ]
    }
   ],
   "source": [
    "# Solution 3\n",
    "import math \n",
    "a, b, c = 1, 2, 5\n",
    "discriminant = b**2 - 4*a*c\n",
    "real_part = -b/(2*a)\n",
    "img_part = math.sqrt(-discriminant) / (2*a)\n",
    "sol1 = \"(\" + str(real_part) + \", \" + str(img_part) + \" i)\"\n",
    "sol2 = \"(\" + str(real_part) + \", \" + str(-img_part) + \" i)\"\n",
    "print(sol1, sol2)"
   ]
  },
  {
   "cell_type": "code",
   "execution_count": 49,
   "metadata": {},
   "outputs": [
    {
     "name": "stdout",
     "output_type": "stream",
     "text": [
      "((-1+2j), (-1+2j))\n"
     ]
    }
   ],
   "source": [
    "# solution 4\n",
    "def equation_im(a, b, c):\n",
    "\tsol1 = (-b + cmath.sqrt(discriminant)) / (2 * a)\n",
    "\tsol2 = (-b + cmath.sqrt(discriminant)) / (2 * a)\n",
    "\treturn sol1 , sol2\n",
    "print(equation_im(a, b, c))"
   ]
  },
  {
   "cell_type": "code",
   "execution_count": null,
   "metadata": {},
   "outputs": [],
   "source": []
  }
 ],
 "metadata": {
  "kernelspec": {
   "display_name": "Python 3",
   "language": "python",
   "name": "python3"
  },
  "language_info": {
   "codemirror_mode": {
    "name": "ipython",
    "version": 3
   },
   "file_extension": ".py",
   "mimetype": "text/x-python",
   "name": "python",
   "nbconvert_exporter": "python",
   "pygments_lexer": "ipython3",
   "version": "3.12.5"
  }
 },
 "nbformat": 4,
 "nbformat_minor": 2
}
